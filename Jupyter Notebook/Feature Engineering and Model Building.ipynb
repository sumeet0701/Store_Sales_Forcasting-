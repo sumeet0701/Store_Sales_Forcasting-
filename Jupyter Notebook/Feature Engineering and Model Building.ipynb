{
 "cells": [
  {
   "cell_type": "markdown",
   "id": "a29ed09f",
   "metadata": {},
   "source": [
    "# Importing Import Libraries"
   ]
  },
  {
   "cell_type": "code",
   "execution_count": 1,
   "id": "decaf777",
   "metadata": {},
   "outputs": [],
   "source": [
    "import pandas as pd\n",
    "import seaborn as sns\n",
    "import matplotlib.pyplot as plt\n",
    "import numpy as np\n",
    "pd.set_option('float_format', '{:f}'.format)"
   ]
  },
  {
   "cell_type": "code",
   "execution_count": 2,
   "id": "bdbfc17f",
   "metadata": {},
   "outputs": [],
   "source": [
    "df = pd.read_csv(r\"C:\\Users\\Sumeet Maheshwari\\Desktop\\end to end project\\Store sales Forcasting\\Store_Sales_Forcasting-\\Dataset\\outlier_clean.csv\")"
   ]
  },
  {
   "cell_type": "code",
   "execution_count": 3,
   "id": "56cd6548",
   "metadata": {},
   "outputs": [
    {
     "data": {
      "text/html": [
       "<div>\n",
       "<style scoped>\n",
       "    .dataframe tbody tr th:only-of-type {\n",
       "        vertical-align: middle;\n",
       "    }\n",
       "\n",
       "    .dataframe tbody tr th {\n",
       "        vertical-align: top;\n",
       "    }\n",
       "\n",
       "    .dataframe thead th {\n",
       "        text-align: right;\n",
       "    }\n",
       "</style>\n",
       "<table border=\"1\" class=\"dataframe\">\n",
       "  <thead>\n",
       "    <tr style=\"text-align: right;\">\n",
       "      <th></th>\n",
       "      <th>Unnamed: 0</th>\n",
       "      <th>date</th>\n",
       "      <th>store_nbr</th>\n",
       "      <th>family</th>\n",
       "      <th>sales</th>\n",
       "      <th>onpromotion</th>\n",
       "      <th>holiday_type</th>\n",
       "      <th>locale</th>\n",
       "      <th>locale_name</th>\n",
       "      <th>description</th>\n",
       "      <th>...</th>\n",
       "      <th>city</th>\n",
       "      <th>state</th>\n",
       "      <th>store_type</th>\n",
       "      <th>cluster</th>\n",
       "      <th>transactions</th>\n",
       "      <th>year</th>\n",
       "      <th>month</th>\n",
       "      <th>week</th>\n",
       "      <th>quarter</th>\n",
       "      <th>day_of_week</th>\n",
       "    </tr>\n",
       "  </thead>\n",
       "  <tbody>\n",
       "    <tr>\n",
       "      <th>0</th>\n",
       "      <td>0</td>\n",
       "      <td>2013-01-01</td>\n",
       "      <td>1</td>\n",
       "      <td>AUTOMOTIVE</td>\n",
       "      <td>0.000000</td>\n",
       "      <td>0</td>\n",
       "      <td>Holiday</td>\n",
       "      <td>National</td>\n",
       "      <td>Ecuador</td>\n",
       "      <td>Primer dia del ano</td>\n",
       "      <td>...</td>\n",
       "      <td>Quito</td>\n",
       "      <td>Pichincha</td>\n",
       "      <td>D</td>\n",
       "      <td>13</td>\n",
       "      <td>1697.071441</td>\n",
       "      <td>2013</td>\n",
       "      <td>1</td>\n",
       "      <td>1</td>\n",
       "      <td>1</td>\n",
       "      <td>Tuesday</td>\n",
       "    </tr>\n",
       "    <tr>\n",
       "      <th>1</th>\n",
       "      <td>1</td>\n",
       "      <td>2013-01-01</td>\n",
       "      <td>1</td>\n",
       "      <td>BABY CARE</td>\n",
       "      <td>0.000000</td>\n",
       "      <td>0</td>\n",
       "      <td>Holiday</td>\n",
       "      <td>National</td>\n",
       "      <td>Ecuador</td>\n",
       "      <td>Primer dia del ano</td>\n",
       "      <td>...</td>\n",
       "      <td>Quito</td>\n",
       "      <td>Pichincha</td>\n",
       "      <td>D</td>\n",
       "      <td>13</td>\n",
       "      <td>1697.071441</td>\n",
       "      <td>2013</td>\n",
       "      <td>1</td>\n",
       "      <td>1</td>\n",
       "      <td>1</td>\n",
       "      <td>Tuesday</td>\n",
       "    </tr>\n",
       "    <tr>\n",
       "      <th>2</th>\n",
       "      <td>2</td>\n",
       "      <td>2013-01-01</td>\n",
       "      <td>1</td>\n",
       "      <td>BEAUTY</td>\n",
       "      <td>0.000000</td>\n",
       "      <td>0</td>\n",
       "      <td>Holiday</td>\n",
       "      <td>National</td>\n",
       "      <td>Ecuador</td>\n",
       "      <td>Primer dia del ano</td>\n",
       "      <td>...</td>\n",
       "      <td>Quito</td>\n",
       "      <td>Pichincha</td>\n",
       "      <td>D</td>\n",
       "      <td>13</td>\n",
       "      <td>1697.071441</td>\n",
       "      <td>2013</td>\n",
       "      <td>1</td>\n",
       "      <td>1</td>\n",
       "      <td>1</td>\n",
       "      <td>Tuesday</td>\n",
       "    </tr>\n",
       "    <tr>\n",
       "      <th>3</th>\n",
       "      <td>3</td>\n",
       "      <td>2013-01-01</td>\n",
       "      <td>1</td>\n",
       "      <td>BEVERAGES</td>\n",
       "      <td>0.000000</td>\n",
       "      <td>0</td>\n",
       "      <td>Holiday</td>\n",
       "      <td>National</td>\n",
       "      <td>Ecuador</td>\n",
       "      <td>Primer dia del ano</td>\n",
       "      <td>...</td>\n",
       "      <td>Quito</td>\n",
       "      <td>Pichincha</td>\n",
       "      <td>D</td>\n",
       "      <td>13</td>\n",
       "      <td>1697.071441</td>\n",
       "      <td>2013</td>\n",
       "      <td>1</td>\n",
       "      <td>1</td>\n",
       "      <td>1</td>\n",
       "      <td>Tuesday</td>\n",
       "    </tr>\n",
       "    <tr>\n",
       "      <th>4</th>\n",
       "      <td>4</td>\n",
       "      <td>2013-01-01</td>\n",
       "      <td>1</td>\n",
       "      <td>BOOKS</td>\n",
       "      <td>0.000000</td>\n",
       "      <td>0</td>\n",
       "      <td>Holiday</td>\n",
       "      <td>National</td>\n",
       "      <td>Ecuador</td>\n",
       "      <td>Primer dia del ano</td>\n",
       "      <td>...</td>\n",
       "      <td>Quito</td>\n",
       "      <td>Pichincha</td>\n",
       "      <td>D</td>\n",
       "      <td>13</td>\n",
       "      <td>1697.071441</td>\n",
       "      <td>2013</td>\n",
       "      <td>1</td>\n",
       "      <td>1</td>\n",
       "      <td>1</td>\n",
       "      <td>Tuesday</td>\n",
       "    </tr>\n",
       "  </tbody>\n",
       "</table>\n",
       "<p>5 rows × 22 columns</p>\n",
       "</div>"
      ],
      "text/plain": [
       "   Unnamed: 0        date  store_nbr      family    sales  onpromotion  \\\n",
       "0           0  2013-01-01          1  AUTOMOTIVE 0.000000            0   \n",
       "1           1  2013-01-01          1   BABY CARE 0.000000            0   \n",
       "2           2  2013-01-01          1      BEAUTY 0.000000            0   \n",
       "3           3  2013-01-01          1   BEVERAGES 0.000000            0   \n",
       "4           4  2013-01-01          1       BOOKS 0.000000            0   \n",
       "\n",
       "  holiday_type    locale locale_name         description  ...   city  \\\n",
       "0      Holiday  National     Ecuador  Primer dia del ano  ...  Quito   \n",
       "1      Holiday  National     Ecuador  Primer dia del ano  ...  Quito   \n",
       "2      Holiday  National     Ecuador  Primer dia del ano  ...  Quito   \n",
       "3      Holiday  National     Ecuador  Primer dia del ano  ...  Quito   \n",
       "4      Holiday  National     Ecuador  Primer dia del ano  ...  Quito   \n",
       "\n",
       "       state store_type cluster transactions  year  month  week  quarter  \\\n",
       "0  Pichincha          D      13  1697.071441  2013      1     1        1   \n",
       "1  Pichincha          D      13  1697.071441  2013      1     1        1   \n",
       "2  Pichincha          D      13  1697.071441  2013      1     1        1   \n",
       "3  Pichincha          D      13  1697.071441  2013      1     1        1   \n",
       "4  Pichincha          D      13  1697.071441  2013      1     1        1   \n",
       "\n",
       "   day_of_week  \n",
       "0      Tuesday  \n",
       "1      Tuesday  \n",
       "2      Tuesday  \n",
       "3      Tuesday  \n",
       "4      Tuesday  \n",
       "\n",
       "[5 rows x 22 columns]"
      ]
     },
     "execution_count": 3,
     "metadata": {},
     "output_type": "execute_result"
    }
   ],
   "source": [
    "df.head()"
   ]
  },
  {
   "cell_type": "code",
   "execution_count": 4,
   "id": "92fa5dcc",
   "metadata": {},
   "outputs": [],
   "source": [
    "# droping unwanted columns\n",
    "df.drop(columns= \"Unnamed: 0\", inplace = True)"
   ]
  },
  {
   "cell_type": "markdown",
   "id": "25bcc1da",
   "metadata": {},
   "source": [
    "# Types of Features"
   ]
  },
  {
   "cell_type": "markdown",
   "id": "3ba00390",
   "metadata": {},
   "source": [
    "**1. Numerical Feature**"
   ]
  },
  {
   "cell_type": "code",
   "execution_count": 5,
   "id": "1aff909e",
   "metadata": {},
   "outputs": [
    {
     "name": "stdout",
     "output_type": "stream",
     "text": [
      "Num of Numerical Features : 11\n",
      "['store_nbr', 'sales', 'onpromotion', 'transferred', 'oil_price', 'cluster', 'transactions', 'year', 'month', 'week', 'quarter']\n"
     ]
    }
   ],
   "source": [
    "num_features = [feature for feature in df.columns if df[feature].dtype != 'O']\n",
    "print('Num of Numerical Features :', len(num_features))\n",
    "print(num_features)"
   ]
  },
  {
   "cell_type": "markdown",
   "id": "113be0a6",
   "metadata": {},
   "source": [
    "**2. Categorical Features**"
   ]
  },
  {
   "cell_type": "code",
   "execution_count": 6,
   "id": "8a847740",
   "metadata": {},
   "outputs": [
    {
     "name": "stdout",
     "output_type": "stream",
     "text": [
      "Num of Categorical Features : 10\n",
      "['date', 'family', 'holiday_type', 'locale', 'locale_name', 'description', 'city', 'state', 'store_type', 'day_of_week']\n"
     ]
    }
   ],
   "source": [
    "cat_features = [feature for feature in df.columns if df[feature].dtype == 'O']\n",
    "print('Num of Categorical Features :', len(cat_features))\n",
    "print(cat_features)"
   ]
  },
  {
   "cell_type": "markdown",
   "id": "c801b832",
   "metadata": {},
   "source": [
    "**3. Discerte Features**"
   ]
  },
  {
   "cell_type": "code",
   "execution_count": 7,
   "id": "a5f1312d",
   "metadata": {},
   "outputs": [
    {
     "name": "stdout",
     "output_type": "stream",
     "text": [
      "Num of Discrete Features : 5\n",
      "['transferred', 'cluster', 'year', 'month', 'quarter']\n"
     ]
    }
   ],
   "source": [
    "discrete_feature=[feature for feature in num_features if len(df[feature].unique())<=25]\n",
    "print('Num of Discrete Features :',len(discrete_feature))\n",
    "print(discrete_feature)"
   ]
  },
  {
   "cell_type": "markdown",
   "id": "c47cd67d",
   "metadata": {},
   "source": [
    "**4. Year Features**"
   ]
  },
  {
   "cell_type": "code",
   "execution_count": 8,
   "id": "eee4ea3a",
   "metadata": {},
   "outputs": [
    {
     "name": "stdout",
     "output_type": "stream",
     "text": [
      "Num of Year Features : 6\n",
      "['date', 'holiday_type', 'year', 'month', 'week', 'day_of_week']\n"
     ]
    }
   ],
   "source": [
    "year_features=[feature for feature in df.columns if 'date' in feature or 'month' in feature or 'year' in feature or  'day' in feature or 'week' in feature]\n",
    "print('Num of Year Features :',len(year_features))\n",
    "print(year_features)"
   ]
  },
  {
   "cell_type": "markdown",
   "id": "858068d2",
   "metadata": {},
   "source": [
    "**5. Continuous features**"
   ]
  },
  {
   "cell_type": "code",
   "execution_count": 9,
   "id": "7426c476",
   "metadata": {
    "scrolled": true
   },
   "outputs": [
    {
     "name": "stdout",
     "output_type": "stream",
     "text": [
      "Num of Continuous Features : 5\n",
      "['store_nbr', 'sales', 'onpromotion', 'oil_price', 'transactions']\n"
     ]
    }
   ],
   "source": [
    "continuous_feature=[feature for feature in num_features if feature not in discrete_feature+year_features]\n",
    "print('Num of Continuous Features :',len(continuous_feature))\n",
    "print(continuous_feature)"
   ]
  },
  {
   "cell_type": "markdown",
   "id": "8216a329",
   "metadata": {},
   "source": [
    "# Hypothesis Testing"
   ]
  },
  {
   "cell_type": "markdown",
   "id": "ad89c52e",
   "metadata": {},
   "source": [
    "# 1. Checking Corelation"
   ]
  },
  {
   "cell_type": "code",
   "execution_count": 10,
   "id": "7c7ac0d8",
   "metadata": {},
   "outputs": [
    {
     "data": {
      "text/html": [
       "<div>\n",
       "<style scoped>\n",
       "    .dataframe tbody tr th:only-of-type {\n",
       "        vertical-align: middle;\n",
       "    }\n",
       "\n",
       "    .dataframe tbody tr th {\n",
       "        vertical-align: top;\n",
       "    }\n",
       "\n",
       "    .dataframe thead th {\n",
       "        text-align: right;\n",
       "    }\n",
       "</style>\n",
       "<table border=\"1\" class=\"dataframe\">\n",
       "  <thead>\n",
       "    <tr style=\"text-align: right;\">\n",
       "      <th></th>\n",
       "      <th>store_nbr</th>\n",
       "      <th>sales</th>\n",
       "      <th>onpromotion</th>\n",
       "      <th>transferred</th>\n",
       "      <th>oil_price</th>\n",
       "      <th>cluster</th>\n",
       "      <th>transactions</th>\n",
       "      <th>year</th>\n",
       "      <th>month</th>\n",
       "      <th>week</th>\n",
       "      <th>quarter</th>\n",
       "    </tr>\n",
       "  </thead>\n",
       "  <tbody>\n",
       "    <tr>\n",
       "      <th>store_nbr</th>\n",
       "      <td>1.000000</td>\n",
       "      <td>0.041273</td>\n",
       "      <td>0.007744</td>\n",
       "      <td>0.000000</td>\n",
       "      <td>-0.000203</td>\n",
       "      <td>-0.059284</td>\n",
       "      <td>0.182013</td>\n",
       "      <td>0.000000</td>\n",
       "      <td>-0.000000</td>\n",
       "      <td>-0.000000</td>\n",
       "      <td>-0.000000</td>\n",
       "    </tr>\n",
       "    <tr>\n",
       "      <th>sales</th>\n",
       "      <td>0.041273</td>\n",
       "      <td>1.000000</td>\n",
       "      <td>0.428241</td>\n",
       "      <td>-0.003114</td>\n",
       "      <td>-0.075462</td>\n",
       "      <td>0.038537</td>\n",
       "      <td>0.213506</td>\n",
       "      <td>0.081320</td>\n",
       "      <td>0.020250</td>\n",
       "      <td>0.016804</td>\n",
       "      <td>0.018752</td>\n",
       "    </tr>\n",
       "    <tr>\n",
       "      <th>onpromotion</th>\n",
       "      <td>0.007744</td>\n",
       "      <td>0.428241</td>\n",
       "      <td>1.000000</td>\n",
       "      <td>0.013968</td>\n",
       "      <td>-0.154516</td>\n",
       "      <td>0.005702</td>\n",
       "      <td>0.025754</td>\n",
       "      <td>0.198913</td>\n",
       "      <td>0.025600</td>\n",
       "      <td>0.022347</td>\n",
       "      <td>0.024860</td>\n",
       "    </tr>\n",
       "    <tr>\n",
       "      <th>transferred</th>\n",
       "      <td>0.000000</td>\n",
       "      <td>-0.003114</td>\n",
       "      <td>0.013968</td>\n",
       "      <td>1.000000</td>\n",
       "      <td>-0.026728</td>\n",
       "      <td>0.000000</td>\n",
       "      <td>-0.012179</td>\n",
       "      <td>0.056500</td>\n",
       "      <td>0.004771</td>\n",
       "      <td>0.031317</td>\n",
       "      <td>0.016777</td>\n",
       "    </tr>\n",
       "    <tr>\n",
       "      <th>oil_price</th>\n",
       "      <td>-0.000203</td>\n",
       "      <td>-0.075462</td>\n",
       "      <td>-0.154516</td>\n",
       "      <td>-0.026728</td>\n",
       "      <td>1.000000</td>\n",
       "      <td>0.000029</td>\n",
       "      <td>0.022785</td>\n",
       "      <td>-0.833957</td>\n",
       "      <td>0.009544</td>\n",
       "      <td>0.006487</td>\n",
       "      <td>0.010356</td>\n",
       "    </tr>\n",
       "    <tr>\n",
       "      <th>cluster</th>\n",
       "      <td>-0.059284</td>\n",
       "      <td>0.038537</td>\n",
       "      <td>0.005702</td>\n",
       "      <td>0.000000</td>\n",
       "      <td>0.000029</td>\n",
       "      <td>1.000000</td>\n",
       "      <td>0.190945</td>\n",
       "      <td>0.000000</td>\n",
       "      <td>0.000000</td>\n",
       "      <td>0.000000</td>\n",
       "      <td>0.000000</td>\n",
       "    </tr>\n",
       "    <tr>\n",
       "      <th>transactions</th>\n",
       "      <td>0.182013</td>\n",
       "      <td>0.213506</td>\n",
       "      <td>0.025754</td>\n",
       "      <td>-0.012179</td>\n",
       "      <td>0.022785</td>\n",
       "      <td>0.190945</td>\n",
       "      <td>1.000000</td>\n",
       "      <td>-0.034876</td>\n",
       "      <td>0.039805</td>\n",
       "      <td>0.029971</td>\n",
       "      <td>0.031546</td>\n",
       "    </tr>\n",
       "    <tr>\n",
       "      <th>year</th>\n",
       "      <td>0.000000</td>\n",
       "      <td>0.081320</td>\n",
       "      <td>0.198913</td>\n",
       "      <td>0.056500</td>\n",
       "      <td>-0.833957</td>\n",
       "      <td>0.000000</td>\n",
       "      <td>-0.034876</td>\n",
       "      <td>1.000000</td>\n",
       "      <td>-0.143380</td>\n",
       "      <td>-0.136850</td>\n",
       "      <td>-0.137833</td>\n",
       "    </tr>\n",
       "    <tr>\n",
       "      <th>month</th>\n",
       "      <td>-0.000000</td>\n",
       "      <td>0.020250</td>\n",
       "      <td>0.025600</td>\n",
       "      <td>0.004771</td>\n",
       "      <td>0.009544</td>\n",
       "      <td>0.000000</td>\n",
       "      <td>0.039805</td>\n",
       "      <td>-0.143380</td>\n",
       "      <td>1.000000</td>\n",
       "      <td>0.966018</td>\n",
       "      <td>0.970032</td>\n",
       "    </tr>\n",
       "    <tr>\n",
       "      <th>week</th>\n",
       "      <td>-0.000000</td>\n",
       "      <td>0.016804</td>\n",
       "      <td>0.022347</td>\n",
       "      <td>0.031317</td>\n",
       "      <td>0.006487</td>\n",
       "      <td>0.000000</td>\n",
       "      <td>0.029971</td>\n",
       "      <td>-0.136850</td>\n",
       "      <td>0.966018</td>\n",
       "      <td>1.000000</td>\n",
       "      <td>0.940961</td>\n",
       "    </tr>\n",
       "    <tr>\n",
       "      <th>quarter</th>\n",
       "      <td>-0.000000</td>\n",
       "      <td>0.018752</td>\n",
       "      <td>0.024860</td>\n",
       "      <td>0.016777</td>\n",
       "      <td>0.010356</td>\n",
       "      <td>0.000000</td>\n",
       "      <td>0.031546</td>\n",
       "      <td>-0.137833</td>\n",
       "      <td>0.970032</td>\n",
       "      <td>0.940961</td>\n",
       "      <td>1.000000</td>\n",
       "    </tr>\n",
       "  </tbody>\n",
       "</table>\n",
       "</div>"
      ],
      "text/plain": [
       "              store_nbr     sales  onpromotion  transferred  oil_price  \\\n",
       "store_nbr      1.000000  0.041273     0.007744     0.000000  -0.000203   \n",
       "sales          0.041273  1.000000     0.428241    -0.003114  -0.075462   \n",
       "onpromotion    0.007744  0.428241     1.000000     0.013968  -0.154516   \n",
       "transferred    0.000000 -0.003114     0.013968     1.000000  -0.026728   \n",
       "oil_price     -0.000203 -0.075462    -0.154516    -0.026728   1.000000   \n",
       "cluster       -0.059284  0.038537     0.005702     0.000000   0.000029   \n",
       "transactions   0.182013  0.213506     0.025754    -0.012179   0.022785   \n",
       "year           0.000000  0.081320     0.198913     0.056500  -0.833957   \n",
       "month         -0.000000  0.020250     0.025600     0.004771   0.009544   \n",
       "week          -0.000000  0.016804     0.022347     0.031317   0.006487   \n",
       "quarter       -0.000000  0.018752     0.024860     0.016777   0.010356   \n",
       "\n",
       "               cluster  transactions      year     month      week   quarter  \n",
       "store_nbr    -0.059284      0.182013  0.000000 -0.000000 -0.000000 -0.000000  \n",
       "sales         0.038537      0.213506  0.081320  0.020250  0.016804  0.018752  \n",
       "onpromotion   0.005702      0.025754  0.198913  0.025600  0.022347  0.024860  \n",
       "transferred   0.000000     -0.012179  0.056500  0.004771  0.031317  0.016777  \n",
       "oil_price     0.000029      0.022785 -0.833957  0.009544  0.006487  0.010356  \n",
       "cluster       1.000000      0.190945  0.000000  0.000000  0.000000  0.000000  \n",
       "transactions  0.190945      1.000000 -0.034876  0.039805  0.029971  0.031546  \n",
       "year          0.000000     -0.034876  1.000000 -0.143380 -0.136850 -0.137833  \n",
       "month         0.000000      0.039805 -0.143380  1.000000  0.966018  0.970032  \n",
       "week          0.000000      0.029971 -0.136850  0.966018  1.000000  0.940961  \n",
       "quarter       0.000000      0.031546 -0.137833  0.970032  0.940961  1.000000  "
      ]
     },
     "execution_count": 10,
     "metadata": {},
     "output_type": "execute_result"
    }
   ],
   "source": [
    "df.corr()"
   ]
  },
  {
   "cell_type": "code",
   "execution_count": 11,
   "id": "05af4d05",
   "metadata": {},
   "outputs": [
    {
     "data": {
      "text/plain": [
       "<AxesSubplot:>"
      ]
     },
     "execution_count": 11,
     "metadata": {},
     "output_type": "execute_result"
    },
    {
     "data": {
      "image/png": "[encoded data removed]",
      "text/plain": [
       "<Figure size 1080x432 with 2 Axes>"
      ]
     },
     "metadata": {
      "needs_background": "light"
     },
     "output_type": "display_data"
    }
   ],
   "source": [
    "plt.figure(figsize =(15,6))\n",
    "sns.heatmap(df.corr(), annot= True, cmap =\"Blues\")"
   ]
  },
  {
   "cell_type": "code",
   "execution_count": 12,
   "id": "2bbfb707",
   "metadata": {},
   "outputs": [
    {
     "data": {
      "text/plain": [
       "store_nbr       0.041273\n",
       "sales           1.000000\n",
       "onpromotion     0.428241\n",
       "transferred    -0.003114\n",
       "oil_price      -0.075462\n",
       "cluster         0.038537\n",
       "transactions    0.213506\n",
       "year            0.081320\n",
       "month           0.020250\n",
       "week            0.016804\n",
       "quarter         0.018752\n",
       "Name: sales, dtype: float64"
      ]
     },
     "execution_count": 12,
     "metadata": {},
     "output_type": "execute_result"
    }
   ],
   "source": [
    "# checking correlation of features with sales\n",
    "df.corr()['sales']"
   ]
  },
  {
   "cell_type": "code",
   "execution_count": 13,
   "id": "9df4d1e7",
   "metadata": {},
   "outputs": [
    {
     "data": {
      "text/plain": [
       "<AxesSubplot:>"
      ]
     },
     "execution_count": 13,
     "metadata": {},
     "output_type": "execute_result"
    },
    {
     "data": {
      "image/png": "[encoded data removed]",
      "text/plain": [
       "<Figure size 1080x432 with 1 Axes>"
      ]
     },
     "metadata": {
      "needs_background": "light"
     },
     "output_type": "display_data"
    }
   ],
   "source": [
    "# checking correlation of features with sales\n",
    "plt.figure(figsize =(15,6))\n",
    "df.corr()['sales'].plot(kind ='bar', color ='grey')"
   ]
  },
  {
   "cell_type": "markdown",
   "id": "9a998ac1",
   "metadata": {},
   "source": [
    "**Observation**\n",
    "1. OnPromotion has highest correlation with sales which is 43%\n",
    "2. Oil_price has highest negative correlation with 8%\n",
    "3. Transcations has second highest correlation with sales"
   ]
  },
  {
   "cell_type": "code",
   "execution_count": 14,
   "id": "a283a940",
   "metadata": {},
   "outputs": [],
   "source": [
    "num_df = df[num_features]"
   ]
  },
  {
   "cell_type": "markdown",
   "id": "a579e767",
   "metadata": {},
   "source": [
    "####   Shapiro Wick Test\n",
    "* **The Shapiro-Wilk test is a way to tell if a random sample comes from a normal distribution.**\n",
    "\n",
    "- Ho : Data is normally distributed\n",
    "- H1 : Data is not normally distributed"
   ]
  },
  {
   "cell_type": "code",
   "execution_count": 15,
   "id": "42d0d9dc",
   "metadata": {},
   "outputs": [
    {
     "name": "stderr",
     "output_type": "stream",
     "text": [
      "C:\\Users\\Sumeet Maheshwari\\anaconda3\\lib\\site-packages\\scipy\\stats\\_morestats.py:1816: UserWarning: p-value may not be accurate for N > 5000.\n",
      "  warnings.warn(\"p-value may not be accurate for N > 5000.\")\n"
     ]
    },
    {
     "data": {
      "text/html": [
       "<div>\n",
       "<style scoped>\n",
       "    .dataframe tbody tr th:only-of-type {\n",
       "        vertical-align: middle;\n",
       "    }\n",
       "\n",
       "    .dataframe tbody tr th {\n",
       "        vertical-align: top;\n",
       "    }\n",
       "\n",
       "    .dataframe thead th {\n",
       "        text-align: right;\n",
       "    }\n",
       "</style>\n",
       "<table border=\"1\" class=\"dataframe\">\n",
       "  <thead>\n",
       "    <tr style=\"text-align: right;\">\n",
       "      <th></th>\n",
       "      <th>Column Name</th>\n",
       "      <th>Shapiro Hypothesis Result</th>\n",
       "    </tr>\n",
       "  </thead>\n",
       "  <tbody>\n",
       "    <tr>\n",
       "      <th>0</th>\n",
       "      <td>store_nbr</td>\n",
       "      <td>Not Normally Distributed</td>\n",
       "    </tr>\n",
       "    <tr>\n",
       "      <th>1</th>\n",
       "      <td>sales</td>\n",
       "      <td>Not Normally Distributed</td>\n",
       "    </tr>\n",
       "    <tr>\n",
       "      <th>2</th>\n",
       "      <td>onpromotion</td>\n",
       "      <td>Not Normally Distributed</td>\n",
       "    </tr>\n",
       "    <tr>\n",
       "      <th>3</th>\n",
       "      <td>transferred</td>\n",
       "      <td>Not Normally Distributed</td>\n",
       "    </tr>\n",
       "    <tr>\n",
       "      <th>4</th>\n",
       "      <td>oil_price</td>\n",
       "      <td>Normally Distributed</td>\n",
       "    </tr>\n",
       "    <tr>\n",
       "      <th>5</th>\n",
       "      <td>cluster</td>\n",
       "      <td>Not Normally Distributed</td>\n",
       "    </tr>\n",
       "    <tr>\n",
       "      <th>6</th>\n",
       "      <td>transactions</td>\n",
       "      <td>Not Normally Distributed</td>\n",
       "    </tr>\n",
       "    <tr>\n",
       "      <th>7</th>\n",
       "      <td>year</td>\n",
       "      <td>Not Normally Distributed</td>\n",
       "    </tr>\n",
       "    <tr>\n",
       "      <th>8</th>\n",
       "      <td>month</td>\n",
       "      <td>Not Normally Distributed</td>\n",
       "    </tr>\n",
       "    <tr>\n",
       "      <th>9</th>\n",
       "      <td>week</td>\n",
       "      <td>Not Normally Distributed</td>\n",
       "    </tr>\n",
       "    <tr>\n",
       "      <th>10</th>\n",
       "      <td>quarter</td>\n",
       "      <td>Not Normally Distributed</td>\n",
       "    </tr>\n",
       "  </tbody>\n",
       "</table>\n",
       "</div>"
      ],
      "text/plain": [
       "     Column Name Shapiro Hypothesis Result\n",
       "0      store_nbr  Not Normally Distributed\n",
       "1          sales  Not Normally Distributed\n",
       "2    onpromotion  Not Normally Distributed\n",
       "3    transferred  Not Normally Distributed\n",
       "4      oil_price      Normally Distributed\n",
       "5        cluster  Not Normally Distributed\n",
       "6   transactions  Not Normally Distributed\n",
       "7           year  Not Normally Distributed\n",
       "8          month  Not Normally Distributed\n",
       "9           week  Not Normally Distributed\n",
       "10       quarter  Not Normally Distributed"
      ]
     },
     "execution_count": 15,
     "metadata": {},
     "output_type": "execute_result"
    }
   ],
   "source": [
    "from scipy.stats import shapiro\n",
    "shapiro_wick_test = []\n",
    "for column in num_features:\n",
    "    dataToTest = num_df[column]\n",
    "    stat,p = shapiro(dataToTest)\n",
    "    if p > 0.05:\n",
    "        shapiro_wick_test.append(\"Normally Distributed\")\n",
    "    else:\n",
    "        shapiro_wick_test.append(\"Not Normally Distributed\")\n",
    "result = pd.DataFrame(data=[num_features, shapiro_wick_test]).T\n",
    "result.columns = ['Column Name', 'Shapiro Hypothesis Result']\n",
    "result"
   ]
  },
  {
   "cell_type": "markdown",
   "id": "09f4450a",
   "metadata": {},
   "source": [
    "**observation**\n",
    "1. Only oil price is normarly distributed \n",
    "2. other all columns are not normaly distributed"
   ]
  },
  {
   "cell_type": "markdown",
   "id": "46d4fbec",
   "metadata": {},
   "source": [
    "####  Spearmanr Test\n",
    "\n",
    "* **Spearman Rank Correlation, which is used to measure the correlation between two ranked variables**\n",
    "* **Whereas The Pearson correlation coefficient is computed using raw data values**\n",
    "* **Unlike the Pearson correlation, the Spearman correlation does not assume that both datasets are normally distributed.**\n",
    "* **Spearman rank correlation is closely related to the Pearson correlation, and both are a bounded value, from -1 to 1 denoting a correlation between two variables.**\n",
    "- Ho : Independent Samples\n",
    "- H1 : Dependent Samples"
   ]
  },
  {
   "cell_type": "code",
   "execution_count": 16,
   "id": "7655028d",
   "metadata": {},
   "outputs": [],
   "source": [
    "from scipy.stats import spearmanr\n",
    "from scipy.stats import pearsonr\n",
    "\n",
    "def test_correlation(test_name,column1, column2):\n",
    "    column1_to_test = num_df[column1]\n",
    "    column2_to_test = num_df[column2]\n",
    "    stat,p = test_name(column1_to_test , column2_to_test)\n",
    "    d =dict()\n",
    "    d['col1'] = column1\n",
    "    d['col2'] = column2\n",
    "    if p> 0.05:\n",
    "        test_results.append(\"Independent Samples\")\n",
    "    else:\n",
    "        test_results.append(\"Dependent Samples\")\n",
    "    columns_combination.append(d)"
   ]
  },
  {
   "cell_type": "code",
   "execution_count": 17,
   "id": "2e0cee1a",
   "metadata": {},
   "outputs": [],
   "source": [
    "columns_combination = []\n",
    "test_results = []\n",
    "#test_correlation(spearmanr,'math score','reading score')\n",
    "for i in num_features:\n",
    "    for j in num_features:\n",
    "            test_correlation(spearmanr,i,j)\n",
    "        "
   ]
  },
  {
   "cell_type": "code",
   "execution_count": 18,
   "id": "67ab48ac",
   "metadata": {},
   "outputs": [
    {
     "data": {
      "text/html": [
       "<div>\n",
       "<style scoped>\n",
       "    .dataframe tbody tr th:only-of-type {\n",
       "        vertical-align: middle;\n",
       "    }\n",
       "\n",
       "    .dataframe tbody tr th {\n",
       "        vertical-align: top;\n",
       "    }\n",
       "\n",
       "    .dataframe thead th {\n",
       "        text-align: right;\n",
       "    }\n",
       "</style>\n",
       "<table border=\"1\" class=\"dataframe\">\n",
       "  <thead>\n",
       "    <tr style=\"text-align: right;\">\n",
       "      <th></th>\n",
       "      <th>col1</th>\n",
       "      <th>col2</th>\n",
       "    </tr>\n",
       "  </thead>\n",
       "  <tbody>\n",
       "    <tr>\n",
       "      <th>Dependent Samples</th>\n",
       "      <td>store_nbr</td>\n",
       "      <td>store_nbr</td>\n",
       "    </tr>\n",
       "    <tr>\n",
       "      <th>Dependent Samples</th>\n",
       "      <td>store_nbr</td>\n",
       "      <td>sales</td>\n",
       "    </tr>\n",
       "    <tr>\n",
       "      <th>Dependent Samples</th>\n",
       "      <td>store_nbr</td>\n",
       "      <td>onpromotion</td>\n",
       "    </tr>\n",
       "    <tr>\n",
       "      <th>Independent Samples</th>\n",
       "      <td>store_nbr</td>\n",
       "      <td>transferred</td>\n",
       "    </tr>\n",
       "    <tr>\n",
       "      <th>Dependent Samples</th>\n",
       "      <td>store_nbr</td>\n",
       "      <td>oil_price</td>\n",
       "    </tr>\n",
       "  </tbody>\n",
       "</table>\n",
       "</div>"
      ],
      "text/plain": [
       "                          col1         col2\n",
       "Dependent Samples    store_nbr    store_nbr\n",
       "Dependent Samples    store_nbr        sales\n",
       "Dependent Samples    store_nbr  onpromotion\n",
       "Independent Samples  store_nbr  transferred\n",
       "Dependent Samples    store_nbr    oil_price"
      ]
     },
     "execution_count": 18,
     "metadata": {},
     "output_type": "execute_result"
    }
   ],
   "source": [
    "df_spearmanr = pd.DataFrame(columns_combination,test_results)\n",
    "df_spearmanr.head()"
   ]
  },
  {
   "cell_type": "markdown",
   "id": "2e1db68e",
   "metadata": {},
   "source": [
    "####  Chi-squared test \n",
    "* **Tests whether two categorical fetaures are dependent or Not.**\n",
    "* Here we will test correlation of Categorical columns with Target column i.e average\n",
    "* Assumptions-\n",
    " - All are Independent observation \n",
    " - Size of each box of contingency table > 25"
   ]
  },
  {
   "cell_type": "code",
   "execution_count": 19,
   "id": "f6ca0667",
   "metadata": {},
   "outputs": [
    {
     "data": {
      "text/html": [
       "<div>\n",
       "<style scoped>\n",
       "    .dataframe tbody tr th:only-of-type {\n",
       "        vertical-align: middle;\n",
       "    }\n",
       "\n",
       "    .dataframe tbody tr th {\n",
       "        vertical-align: top;\n",
       "    }\n",
       "\n",
       "    .dataframe thead th {\n",
       "        text-align: right;\n",
       "    }\n",
       "</style>\n",
       "<table border=\"1\" class=\"dataframe\">\n",
       "  <thead>\n",
       "    <tr style=\"text-align: right;\">\n",
       "      <th></th>\n",
       "      <th>Column</th>\n",
       "      <th>Hypothesis Result</th>\n",
       "    </tr>\n",
       "  </thead>\n",
       "  <tbody>\n",
       "    <tr>\n",
       "      <th>0</th>\n",
       "      <td>date</td>\n",
       "      <td>Dependent Categories</td>\n",
       "    </tr>\n",
       "    <tr>\n",
       "      <th>1</th>\n",
       "      <td>family</td>\n",
       "      <td>Dependent Categories</td>\n",
       "    </tr>\n",
       "    <tr>\n",
       "      <th>2</th>\n",
       "      <td>holiday_type</td>\n",
       "      <td>Dependent Categories</td>\n",
       "    </tr>\n",
       "    <tr>\n",
       "      <th>3</th>\n",
       "      <td>locale</td>\n",
       "      <td>Independent Categories</td>\n",
       "    </tr>\n",
       "    <tr>\n",
       "      <th>4</th>\n",
       "      <td>locale_name</td>\n",
       "      <td>Independent Categories</td>\n",
       "    </tr>\n",
       "    <tr>\n",
       "      <th>5</th>\n",
       "      <td>description</td>\n",
       "      <td>Independent Categories</td>\n",
       "    </tr>\n",
       "    <tr>\n",
       "      <th>6</th>\n",
       "      <td>city</td>\n",
       "      <td>Independent Categories</td>\n",
       "    </tr>\n",
       "    <tr>\n",
       "      <th>7</th>\n",
       "      <td>state</td>\n",
       "      <td>Independent Categories</td>\n",
       "    </tr>\n",
       "    <tr>\n",
       "      <th>8</th>\n",
       "      <td>store_type</td>\n",
       "      <td>Dependent Categories</td>\n",
       "    </tr>\n",
       "    <tr>\n",
       "      <th>9</th>\n",
       "      <td>day_of_week</td>\n",
       "      <td>Dependent Categories</td>\n",
       "    </tr>\n",
       "  </tbody>\n",
       "</table>\n",
       "</div>"
      ],
      "text/plain": [
       "         Column       Hypothesis Result\n",
       "0          date    Dependent Categories\n",
       "1        family    Dependent Categories\n",
       "2  holiday_type    Dependent Categories\n",
       "3        locale  Independent Categories\n",
       "4   locale_name  Independent Categories\n",
       "5   description  Independent Categories\n",
       "6          city  Independent Categories\n",
       "7         state  Independent Categories\n",
       "8    store_type    Dependent Categories\n",
       "9   day_of_week    Dependent Categories"
      ]
     },
     "execution_count": 19,
     "metadata": {},
     "output_type": "execute_result"
    }
   ],
   "source": [
    "from scipy.stats import chi2_contingency\n",
    "chi2_squared_test = []\n",
    "for feature in cat_features:\n",
    "    stat, p , dof, expected = chi2_contingency(pd.crosstab(df['sales'], df[feature]))\n",
    "    if p> 0.05:\n",
    "        chi2_squared_test.append(\"Independent Categories\")\n",
    "    else:\n",
    "        chi2_squared_test.append(\"Dependent Categories\")\n",
    "result = pd.DataFrame(data=[cat_features, chi2_squared_test]).T\n",
    "result.columns = ['Column', 'Hypothesis Result']\n",
    "result"
   ]
  },
  {
   "cell_type": "markdown",
   "id": "b9392ba8",
   "metadata": {},
   "source": [
    "# Anova Test"
   ]
  },
  {
   "cell_type": "code",
   "execution_count": 25,
   "id": "a16a81a2",
   "metadata": {},
   "outputs": [
    {
     "data": {
      "text/html": [
       "<div>\n",
       "<style scoped>\n",
       "    .dataframe tbody tr th:only-of-type {\n",
       "        vertical-align: middle;\n",
       "    }\n",
       "\n",
       "    .dataframe tbody tr th {\n",
       "        vertical-align: top;\n",
       "    }\n",
       "\n",
       "    .dataframe thead th {\n",
       "        text-align: right;\n",
       "    }\n",
       "</style>\n",
       "<table border=\"1\" class=\"dataframe\">\n",
       "  <thead>\n",
       "    <tr style=\"text-align: right;\">\n",
       "      <th></th>\n",
       "      <th>Column</th>\n",
       "      <th>F-Statistic</th>\n",
       "      <th>P-value</th>\n",
       "    </tr>\n",
       "  </thead>\n",
       "  <tbody>\n",
       "    <tr>\n",
       "      <th>0</th>\n",
       "      <td>store_nbr</td>\n",
       "      <td>273737.785402</td>\n",
       "      <td>0.000000</td>\n",
       "    </tr>\n",
       "    <tr>\n",
       "      <th>1</th>\n",
       "      <td>onpromotion</td>\n",
       "      <td>316394.914017</td>\n",
       "      <td>0.000000</td>\n",
       "    </tr>\n",
       "    <tr>\n",
       "      <th>2</th>\n",
       "      <td>transferred</td>\n",
       "      <td>321089.214951</td>\n",
       "      <td>0.000000</td>\n",
       "    </tr>\n",
       "    <tr>\n",
       "      <th>4</th>\n",
       "      <td>cluster</td>\n",
       "      <td>306101.196096</td>\n",
       "      <td>0.000000</td>\n",
       "    </tr>\n",
       "    <tr>\n",
       "      <th>5</th>\n",
       "      <td>transactions</td>\n",
       "      <td>2623250.826855</td>\n",
       "      <td>0.000000</td>\n",
       "    </tr>\n",
       "    <tr>\n",
       "      <th>6</th>\n",
       "      <td>year</td>\n",
       "      <td>6830074.112416</td>\n",
       "      <td>0.000000</td>\n",
       "    </tr>\n",
       "    <tr>\n",
       "      <th>7</th>\n",
       "      <td>month</td>\n",
       "      <td>310061.061606</td>\n",
       "      <td>0.000000</td>\n",
       "    </tr>\n",
       "    <tr>\n",
       "      <th>8</th>\n",
       "      <td>week</td>\n",
       "      <td>277374.310580</td>\n",
       "      <td>0.000000</td>\n",
       "    </tr>\n",
       "    <tr>\n",
       "      <th>9</th>\n",
       "      <td>quarter</td>\n",
       "      <td>316795.400171</td>\n",
       "      <td>0.000000</td>\n",
       "    </tr>\n",
       "    <tr>\n",
       "      <th>3</th>\n",
       "      <td>oil_price</td>\n",
       "      <td>NaN</td>\n",
       "      <td>NaN</td>\n",
       "    </tr>\n",
       "  </tbody>\n",
       "</table>\n",
       "</div>"
      ],
      "text/plain": [
       "         Column    F-Statistic  P-value\n",
       "0     store_nbr  273737.785402 0.000000\n",
       "1   onpromotion  316394.914017 0.000000\n",
       "2   transferred  321089.214951 0.000000\n",
       "4       cluster  306101.196096 0.000000\n",
       "5  transactions 2623250.826855 0.000000\n",
       "6          year 6830074.112416 0.000000\n",
       "7         month  310061.061606 0.000000\n",
       "8          week  277374.310580 0.000000\n",
       "9       quarter  316795.400171 0.000000\n",
       "3     oil_price            NaN      NaN"
      ]
     },
     "execution_count": 25,
     "metadata": {},
     "output_type": "execute_result"
    }
   ],
   "source": [
    "import pandas as pd\n",
    "from scipy.stats import f_oneway\n",
    "\n",
    "# Perform ANOVA test for each column\n",
    "results = []\n",
    "for column in num_features:\n",
    "    if column != 'sales':\n",
    "        f_statistic, p_value = f_oneway(df[column], df['sales'])\n",
    "        results.append((column, f_statistic, p_value))\n",
    "\n",
    "# Create a DataFrame of results\n",
    "results_df = pd.DataFrame(results, columns=['Column', 'F-Statistic', 'P-value'])\n",
    "\n",
    "# Sort the DataFrame by p-value in ascending order\n",
    "results_df = results_df.sort_values(by='P-value')\n",
    "\n",
    "# Print the DataFrame of results\n",
    "results_df\n"
   ]
  },
  {
   "cell_type": "markdown",
   "id": "c3456fed",
   "metadata": {},
   "source": [
    "**Observation**\n",
    "* If the p-value is zero in an ANOVA test, it indicates that there is strong evidence to reject the null hypothesis. In the context of ANOVA, the null hypothesis assumes that there are no significant differences between the means of the groups being compared.\n",
    "\n",
    "* A p-value of zero suggests that the observed differences between the groups are highly unlikely to be due to chance. Therefore, it implies that there are indeed statistically significant differences between the groups' means.\n",
    "\n",
    "* When conducting an ANOVA test, the decision to reject or fail to reject the null hypothesis is based on a significance level (alpha) that is predetermined. Typically, if the p-value is less than the chosen significance level (e.g., 0.05), the null hypothesis is rejected in favor of the alternative hypothesis, which states that there are significant differences among the groups.\n",
    "\n",
    "* It's important to note that a p-value of zero is not an absolute certainty of the differences but rather indicates extremely strong evidence against the null hypothesis. It suggests that the observed differences are highly likely to be meaningful and not due to random chance."
   ]
  }
 ],
 "metadata": {
  "kernelspec": {
   "display_name": "Python 3 (ipykernel)",
   "language": "python",
   "name": "python3"
  },
  "language_info": {
   "codemirror_mode": {
    "name": "ipython",
    "version": 3
   },
   "file_extension": ".py",
   "mimetype": "text/x-python",
   "name": "python",
   "nbconvert_exporter": "python",
   "pygments_lexer": "ipython3",
   "version": "3.9.7"
  }
 },
 "nbformat": 4,
 "nbformat_minor": 5
}
